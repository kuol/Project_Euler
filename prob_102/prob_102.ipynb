{
 "metadata": {
  "name": "",
  "signature": "sha256:1eba856e074b214eacc499f443b7b21f9df59d82db3cd7fef4123e71287c5f5d"
 },
 "nbformat": 3,
 "nbformat_minor": 0,
 "worksheets": [
  {
   "cells": [
    {
     "cell_type": "heading",
     "level": 2,
     "metadata": {},
     "source": [
      "Illustrations:"
     ]
    },
    {
     "cell_type": "markdown",
     "metadata": {},
     "source": [
      "Suppose you have 3 points _A_, _B_, _C_ that form a triangle and denote the origin as _O_ It's easy to prove that the sign of the following 3 terms are the same if and only if _O_ is inside of the triangle.\n",
      "\n",
      "_AB x AO_ \n",
      "_BC x BO_\n",
      "_CA x CO_\n",
      "\n",
      "where 'x' denotes the cross product"
     ]
    },
    {
     "cell_type": "code",
     "collapsed": false,
     "input": [
      "import numpy as np"
     ],
     "language": "python",
     "metadata": {},
     "outputs": [],
     "prompt_number": 1
    },
    {
     "cell_type": "code",
     "collapsed": false,
     "input": [
      "data = np.genfromtxt('triangles.txt', delimiter=',')"
     ],
     "language": "python",
     "metadata": {},
     "outputs": [],
     "prompt_number": 2
    },
    {
     "cell_type": "code",
     "collapsed": false,
     "input": [
      "def cross_sign(a):\n",
      "    sign = np.empty(3)\n",
      "    AB = a[2:4] - a[0:2]\n",
      "    AO = - a[0:2]\n",
      "    sign[0] = np.sign(AB[0]*AO[1] - AB[1]*AO[0])\n",
      "    \n",
      "    BC = a[4:6] - a[2:4]\n",
      "    BO = - a[2:4]\n",
      "    sign[1] = np.sign(BC[0]*BO[1] - BC[1]*BO[0])\n",
      "    \n",
      "    CA = a[0:2] - a[4:6]\n",
      "    CO = - a[4:6]\n",
      "    sign[2] = np.sign(CA[0]*CO[1] - CA[1]*CO[0])\n",
      "    \n",
      "    return sign"
     ],
     "language": "python",
     "metadata": {},
     "outputs": [],
     "prompt_number": 18
    },
    {
     "cell_type": "code",
     "collapsed": false,
     "input": [
      "data.shape[0]"
     ],
     "language": "python",
     "metadata": {},
     "outputs": [
      {
       "metadata": {},
       "output_type": "pyout",
       "prompt_number": 24,
       "text": [
        "1000"
       ]
      }
     ],
     "prompt_number": 24
    },
    {
     "cell_type": "code",
     "collapsed": false,
     "input": [
      "count\n",
      "for i in xrange(data.shape[0]):\n",
      "    s = cross_sign(data[i,:])\n",
      "    if sum(s) == 3 or sum(s) == -3:\n",
      "        "
     ],
     "language": "python",
     "metadata": {},
     "outputs": []
    }
   ],
   "metadata": {}
  }
 ]
}