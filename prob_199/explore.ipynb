{
 "metadata": {
  "name": "",
  "signature": "sha256:fabcb657f2a75547ce0eae3676868bfdaa662af54530cbd450fdb4388076f909"
 },
 "nbformat": 3,
 "nbformat_minor": 0,
 "worksheets": [
  {
   "cells": [
    {
     "cell_type": "markdown",
     "metadata": {},
     "source": [
      "Reference: http://www.ams.org/samplings/feature-column/fcarc-kissing"
     ]
    },
    {
     "cell_type": "raw",
     "metadata": {},
     "source": [
      "%reset"
     ]
    },
    {
     "cell_type": "code",
     "collapsed": false,
     "input": [
      "import numpy as np"
     ],
     "language": "python",
     "metadata": {},
     "outputs": [],
     "prompt_number": 110
    },
    {
     "cell_type": "code",
     "collapsed": false,
     "input": [
      "class Circle(object):\n",
      "    def __init__(self,l= [0]*3):\n",
      "        self.x = l[0]\n",
      "        self.y = l[1]\n",
      "        self.r = l[2]\n",
      "    def get_radius(self):\n",
      "        return self.r\n",
      "    def get_center(self):\n",
      "        return self.x, self.y\n",
      "    def show(self):\n",
      "        print \"(x,y) = (%f, %f)\\nr = %f\" %(self.x, self.y, self.r)\n",
      "    def plot(self):\n",
      "        plt.axes()\n",
      "        circle = plt.Circle((self.x, self.y), radius=self.r, fc='y')\n",
      "        plt.gca().add_patch(circle)\n",
      "        plt.axis('scaled')\n",
      "        plt.show()"
     ],
     "language": "python",
     "metadata": {},
     "outputs": [],
     "prompt_number": 111
    },
    {
     "cell_type": "code",
     "collapsed": false,
     "input": [
      "def get_circle(c1,c2,c3):\n",
      "    xx = [c1.x, c2.x, c3.x]\n",
      "    yy = [c1.y, c2.y, c3.y]\n",
      "    rr = [c1.r if c1.r!=1 else -c1.r, c2.r if c2.r!=1 else -c2.r, c3.r if c3.r!=1 else -c3.r]\n",
      "    ## compute radius\n",
      "    k = 1.0/np.array(rr)\n",
      "    r = 1.0/(sum(k) + 2*np.sqrt(k[0]*k[1] + k[1]*k[2] + k[2]*k[0]))\n",
      "    ## compute center\n",
      "    rhs = (xx[1]**2 - xx[0]**2) + (yy[1]**2 - yy[0]**2) + (r + rr[0])**2 - (r + rr[1])**2\n",
      "    s = -(float(xx[1]) - xx[0])/(yy[1] - yy[0])\n",
      "    t = float(rhs)/(2*(yy[1] - yy[0]))\n",
      "    \n",
      "    a = (1 + s**2)\n",
      "    b = 2*s*(t-yy[0]) - 2*xx[0]\n",
      "    c = xx[0]**2 + (t - yy[0])**2 - (r + rr[0])**2\n",
      "    \n",
      "    x1 = (-b + np.sqrt(b**2 - 4*a*c))/(2*a)\n",
      "    x2 = (-b - np.sqrt(b**2 - 4*a*c))/(2*a)\n",
      "    y1 = s*x1 + t\n",
      "    y2 = s*x2 + t\n",
      "    \n",
      "    #print x1,y1\n",
      "    #print x2,y2\n",
      "    \n",
      "    # Be careful here! You can't test if \"==\", since they are float numbers!\n",
      "    if (x1 - xx[2])**2 + (y1 - yy[2])**2 - (r + rr[2])**2 < 10e-12:\n",
      "        x,y = x1,y1\n",
      "    else:\n",
      "        x,y = x2,y2\n",
      "    \n",
      "    return Circle((x,y,r))"
     ],
     "language": "python",
     "metadata": {},
     "outputs": [],
     "prompt_number": 112
    },
    {
     "cell_type": "code",
     "collapsed": false,
     "input": [
      "c1 = Circle((0,0,1))\n",
      "c2 = Circle((0,4-2*np.sqrt(3), 2*np.sqrt(3)-3))\n",
      "c3 = Circle((3-2*np.sqrt(3), np.sqrt(3)-2, 2*np.sqrt(3)-3))\n",
      "c4 = Circle((-c3.x, c3.y, c3.r))\n",
      "c5 = get_circle(c2,c3,c4)\n",
      "#branch_side = [(c1,-1), (c2,0), (c3,0), (c4,0)]\n",
      "#branch_center = [(c1,-1), (c2,0), (c3,0), (c4,0)]\n",
      "branch_side = []\n",
      "branch_center = []\n",
      "area = 1 - (c2.r**2 + c3.r**2 + c4.r**2 + c5.r**2) # fracation of blank area"
     ],
     "language": "python",
     "metadata": {},
     "outputs": [],
     "prompt_number": 113
    },
    {
     "cell_type": "code",
     "collapsed": false,
     "input": [
      "def reproduce(c1, c2, c3, all_generations, level=0):\n",
      "    if level == 0:\n",
      "        return 0\n",
      "    else:\n",
      "        child = get_circle(c1,c2,c3)\n",
      "        all_generations.append((child,level))\n",
      "        reproduce(c1,c2,child,all_generations,level-1)\n",
      "        reproduce(c1,c3,child,all_generations,level-1)\n",
      "        reproduce(c2,c3,child,all_generations,level-1)"
     ],
     "language": "python",
     "metadata": {},
     "outputs": [],
     "prompt_number": 114
    },
    {
     "cell_type": "code",
     "collapsed": false,
     "input": [
      "#level = 10\n",
      "reproduce(c1,c2,c3,branch_side,10)\n",
      "reproduce(c2,c3,c5,branch_center,9)"
     ],
     "language": "python",
     "metadata": {},
     "outputs": [],
     "prompt_number": 115
    },
    {
     "cell_type": "code",
     "collapsed": false,
     "input": [
      "r2s = 0 \n",
      "for i in xrange(len(branch_side)):\n",
      "    r2s = r2s + branch_side[i][0].r ** 2\n",
      "r2s"
     ],
     "language": "python",
     "metadata": {},
     "outputs": [
      {
       "metadata": {},
       "output_type": "pyout",
       "prompt_number": 116,
       "text": [
        "0.11297697786560283"
       ]
      }
     ],
     "prompt_number": 116
    },
    {
     "cell_type": "code",
     "collapsed": false,
     "input": [
      "len(branch_center)"
     ],
     "language": "python",
     "metadata": {},
     "outputs": [
      {
       "metadata": {},
       "output_type": "pyout",
       "prompt_number": 62,
       "text": [
        "9842"
       ]
      }
     ],
     "prompt_number": 62
    },
    {
     "cell_type": "code",
     "collapsed": false,
     "input": [
      "r2c = 0\n",
      "for i in xrange(len(branch_center)):\n",
      "    r2c = r2c + branch_center[i][0].r ** 2\n",
      "r2c    "
     ],
     "language": "python",
     "metadata": {},
     "outputs": [
      {
       "metadata": {},
       "output_type": "pyout",
       "prompt_number": 117,
       "text": [
        "0.0019274977639405604"
       ]
      }
     ],
     "prompt_number": 117
    },
    {
     "cell_type": "code",
     "collapsed": false,
     "input": [
      "r2c = 0.0019274977639405604"
     ],
     "language": "python",
     "metadata": {},
     "outputs": [],
     "prompt_number": 98
    },
    {
     "cell_type": "code",
     "collapsed": false,
     "input": [
      "r2s = 0.11297697786560283"
     ],
     "language": "python",
     "metadata": {},
     "outputs": [],
     "prompt_number": 99
    },
    {
     "cell_type": "code",
     "collapsed": false,
     "input": [
      "blank_area = area - (r2s + r2c)*3\n",
      "blank_area"
     ],
     "language": "python",
     "metadata": {},
     "outputs": [
      {
       "metadata": {},
       "output_type": "pyout",
       "prompt_number": 118,
       "text": [
        "0.0039608694480814943"
       ]
      }
     ],
     "prompt_number": 118
    },
    {
     "cell_type": "code",
     "collapsed": false,
     "input": [
      "len(branch_side)"
     ],
     "language": "python",
     "metadata": {},
     "outputs": [
      {
       "metadata": {},
       "output_type": "pyout",
       "prompt_number": 55,
       "text": [
        "29524"
       ]
      }
     ],
     "prompt_number": 55
    },
    {
     "cell_type": "code",
     "collapsed": false,
     "input": [
      "whos"
     ],
     "language": "python",
     "metadata": {},
     "outputs": [
      {
       "output_type": "stream",
       "stream": "stdout",
       "text": [
        "Variable        Type                       Data/Info\n",
        "----------------------------------------------------\n",
        "Blues           LinearSegmentedColormap    <matplotlib.colors.Linear<...>ap object at 0x10545fc50>\n",
        "Circle          type                       <class '__main__.Circle'>\n",
        "area            float64                    1.11158681473\n",
        "branch_center   list                       n=9842\n",
        "branch_side     list                       n=0\n",
        "c1              Circle                     <__main__.Circle object at 0x113d2e150>\n",
        "c2              Circle                     <__main__.Circle object at 0x113d2e110>\n",
        "c3              Circle                     <__main__.Circle object at 0x10740dc10>\n",
        "c4              Circle                     <__main__.Circle object at 0x107366950>\n",
        "c5              Circle                     <__main__.Circle object at 0x10740db10>\n",
        "cir             list                       n=125\n",
        "copy            module                     <module 'copy' from '/Use<...>/lib/python2.7/copy.pyc'>\n",
        "get_circle      function                   <function get_circle at 0x1152e5a28>\n",
        "i               int                        124\n",
        "level           int                        10\n",
        "np              module                     <module 'numpy' from '/Us<...>ages/numpy/__init__.pyc'>\n",
        "plt             module                     <module 'matplotlib.pyplo<...>s/matplotlib/pyplot.pyc'>\n",
        "reproduce       function                   <function reproduce at 0x1152e57d0>\n"
       ]
      }
     ],
     "prompt_number": 63
    },
    {
     "cell_type": "code",
     "collapsed": false,
     "input": [
      "import matplotlib.pyplot as plt\n",
      "Blues = plt.get_cmap('Blues')\n",
      "\n",
      "cir = [plt.Circle((branch_center[i][0].x, branch_center[i][0].y), branch_center[i][0].r, \n",
      "                  color=Blues((branch_center[i][1]+1)/float(level + 2))) for i in xrange(len(branch_center))]\n",
      "\n",
      "for i in xrange(len(cir)):\n",
      "    plt.gca().add_patch(cir[i])\n",
      "\n",
      "\n",
      "plt.axis('scaled')\n",
      "plt.show()"
     ],
     "language": "python",
     "metadata": {},
     "outputs": [
      {
       "metadata": {},
       "output_type": "display_data",
       "png": "[encoded data removed]",
       "text": [
        "<matplotlib.figure.Figure at 0x108b50f10>"
       ]
      }
     ],
     "prompt_number": 36
    },
    {
     "cell_type": "code",
     "collapsed": false,
     "input": [
      "import matplotlib.pyplot as plt\n",
      "Blues = plt.get_cmap('Blues')\n",
      "\n",
      "cir = [plt.Circle((branch_side[i][0].x, branch_side[i][0].y), branch_side[i][0].r, \n",
      "                  color=Blues((branch_side[i][1]+1)/float(level + 2))) for i in xrange(len(branch_side))]\n",
      "\n",
      "for i in xrange(len(cir)):\n",
      "    plt.gca().add_patch(cir[i])\n",
      "\n",
      "\n",
      "plt.axis('scaled')\n",
      "plt.show()"
     ],
     "language": "python",
     "metadata": {},
     "outputs": [
      {
       "metadata": {},
       "output_type": "display_data",
       "png": "[encoded data removed]",
       "text": [
        "<matplotlib.figure.Figure at 0x10734e750>"
       ]
      }
     ],
     "prompt_number": 48
    },
    {
     "cell_type": "code",
     "collapsed": false,
     "input": [
      "son = get_circle(c2,c3,c4)\n",
      "son2 = get_circle(c1,c2,c3)"
     ],
     "language": "python",
     "metadata": {},
     "outputs": [
      {
       "output_type": "stream",
       "stream": "stdout",
       "text": [
        "-4.57966997658e-16 4.71577806159e-16\n",
        "-0.464101615138 0.267949192431\n",
        "0.672027713219 0.38799538113\n",
        "-0.672027713219 0.38799538113\n"
       ]
      }
     ],
     "prompt_number": 12
    },
    {
     "cell_type": "code",
     "collapsed": true,
     "input": [
      "son.show()"
     ],
     "language": "python",
     "metadata": {},
     "outputs": [
      {
       "output_type": "stream",
       "stream": "stdout",
       "text": [
        "(x,y) = (-0.000000, 0.000000)\n",
        "r = 0.071797\n"
       ]
      }
     ],
     "prompt_number": 13
    },
    {
     "cell_type": "code",
     "collapsed": true,
     "input": [
      "son2.show()"
     ],
     "language": "python",
     "metadata": {},
     "outputs": [
      {
       "output_type": "stream",
       "stream": "stdout",
       "text": [
        "(x,y) = (-0.672028, 0.387995)\n",
        "r = 0.224009\n"
       ]
      }
     ],
     "prompt_number": 14
    },
    {
     "cell_type": "code",
     "collapsed": false,
     "input": [
      "import matplotlib.pyplot as plt\n",
      "Blues = plt.get_cmap('Blues')\n",
      "\n",
      "cir1 = plt.Circle((c1.x,c1.y),c1.r,color=Blues(0))\n",
      "cir2 = plt.Circle((c2.x,c2.y),c2.r,color=Blues(0.3))\n",
      "cir3 = plt.Circle((c3.x,c3.y),c3.r,color=Blues(0.3))\n",
      "cir4 = plt.Circle((c4.x,c4.y),c4.r,color=Blues(0.3))\n",
      "cir5 = plt.Circle((son.x,son.y),son.r,color=Blues(0.8))\n",
      "cir6 = plt.Circle((son2.x,son2.y),son2.r,color=Blues(0.8))\n",
      "\n",
      "plt.gca().add_patch(cir1)\n",
      "plt.gca().add_patch(cir2)\n",
      "plt.gca().add_patch(cir3)\n",
      "plt.gca().add_patch(cir4)\n",
      "plt.gca().add_patch(cir5)\n",
      "plt.gca().add_patch(cir6)\n",
      "\n",
      "plt.axis('scaled')\n",
      "plt.show()"
     ],
     "language": "python",
     "metadata": {},
     "outputs": [
      {
       "metadata": {},
       "output_type": "display_data",
       "png": "[encoded data removed]",
       "text": [
        "<matplotlib.figure.Figure at 0x108175890>"
       ]
      }
     ],
     "prompt_number": 49
    },
    {
     "cell_type": "code",
     "collapsed": false,
     "input": [
      "a = np.array(range(9)).reshape((3,3))"
     ],
     "language": "python",
     "metadata": {},
     "outputs": [],
     "prompt_number": 41
    },
    {
     "cell_type": "code",
     "collapsed": false,
     "input": [],
     "language": "python",
     "metadata": {},
     "outputs": []
    },
    {
     "cell_type": "code",
     "collapsed": false,
     "input": [
      "sqrt(2)"
     ],
     "language": "python",
     "metadata": {},
     "outputs": [
      {
       "metadata": {},
       "output_type": "pyout",
       "prompt_number": 61,
       "text": [
        "1.4142135623730951"
       ]
      }
     ],
     "prompt_number": 61
    },
    {
     "cell_type": "code",
     "collapsed": false,
     "input": [
      "b=np.delete(a,1,1)"
     ],
     "language": "python",
     "metadata": {},
     "outputs": [],
     "prompt_number": 49
    },
    {
     "cell_type": "code",
     "collapsed": false,
     "input": [
      "b"
     ],
     "language": "python",
     "metadata": {},
     "outputs": [
      {
       "metadata": {},
       "output_type": "pyout",
       "prompt_number": 50,
       "text": [
        "array([[0, 2],\n",
        "       [3, 5],\n",
        "       [6, 8]])"
       ]
      }
     ],
     "prompt_number": 50
    },
    {
     "cell_type": "code",
     "collapsed": false,
     "input": [
      "np.delete(b,0,0)"
     ],
     "language": "python",
     "metadata": {},
     "outputs": [
      {
       "metadata": {},
       "output_type": "pyout",
       "prompt_number": 51,
       "text": [
        "array([[3, 5],\n",
        "       [6, 8]])"
       ]
      }
     ],
     "prompt_number": 51
    },
    {
     "cell_type": "code",
     "collapsed": false,
     "input": [
      "(-1)**0"
     ],
     "language": "python",
     "metadata": {},
     "outputs": [
      {
       "metadata": {},
       "output_type": "pyout",
       "prompt_number": 40,
       "text": [
        "1"
       ]
      }
     ],
     "prompt_number": 40
    },
    {
     "cell_type": "code",
     "collapsed": false,
     "input": [
      "import matplotlib.pyplot as plt\n",
      "\n",
      "plt.axes()\n",
      "\n",
      "circle = plt.Circle((0, 0), radius=0.75, fc='y')\n",
      "plt.gca().add_patch(circle)\n",
      "\n",
      "plt.axis('scaled')\n",
      "plt.show()"
     ],
     "language": "python",
     "metadata": {},
     "outputs": [
      {
       "metadata": {},
       "output_type": "display_data",
       "png": "[encoded data removed]",
       "text": [
        "<matplotlib.figure.Figure at 0x1076440d0>"
       ]
      }
     ],
     "prompt_number": 68
    },
    {
     "cell_type": "code",
     "collapsed": false,
     "input": [
      "aa = range(5)\n",
      "print aa\n",
      "def modify_list(ll):\n",
      "    ll.append(99)\n",
      "modify_list(aa)\n",
      "print aa"
     ],
     "language": "python",
     "metadata": {},
     "outputs": [
      {
       "output_type": "stream",
       "stream": "stdout",
       "text": [
        "[0, 1, 2, 3, 4]\n",
        "[0, 1, 2, 3, 4, 99]\n"
       ]
      }
     ],
     "prompt_number": 20
    },
    {
     "cell_type": "code",
     "collapsed": false,
     "input": [
      "aa"
     ],
     "language": "python",
     "metadata": {},
     "outputs": [
      {
       "metadata": {},
       "output_type": "pyout",
       "prompt_number": 18,
       "text": [
        "[0, 1, 2, 3, 4]"
       ]
      }
     ],
     "prompt_number": 18
    },
    {
     "cell_type": "code",
     "collapsed": false,
     "input": [
      "a = [(1,[1,2,3]), (2,[2,3,4])]"
     ],
     "language": "python",
     "metadata": {},
     "outputs": [],
     "prompt_number": 22
    },
    {
     "cell_type": "code",
     "collapsed": false,
     "input": [
      "a[0][1]"
     ],
     "language": "python",
     "metadata": {},
     "outputs": [
      {
       "metadata": {},
       "output_type": "pyout",
       "prompt_number": 24,
       "text": [
        "[1, 2, 3]"
       ]
      }
     ],
     "prompt_number": 24
    },
    {
     "cell_type": "code",
     "collapsed": false,
     "input": [
      "np.pi"
     ],
     "language": "python",
     "metadata": {},
     "outputs": [
      {
       "metadata": {},
       "output_type": "pyout",
       "prompt_number": 25,
       "text": [
        "3.141592653589793"
       ]
      }
     ],
     "prompt_number": 25
    },
    {
     "cell_type": "code",
     "collapsed": false,
     "input": [
      "import matplotlib.pyplot as plt\n",
      "import matplotlib as mpl\n",
      "import numpy as np\n",
      "\n",
      "# Generate data...\n",
      "x = np.random.random(10)\n",
      "y = np.random.random(10)\n",
      "Blues = plt.get_cmap('Blues')\n",
      "plt.scatter(x, y, c=y, s=500)\n",
      "plt.show()"
     ],
     "language": "python",
     "metadata": {},
     "outputs": [
      {
       "metadata": {},
       "output_type": "display_data",
       "png": "[encoded data removed]",
       "text": [
        "<matplotlib.figure.Figure at 0x10848aa90>"
       ]
      }
     ],
     "prompt_number": 46
    },
    {
     "cell_type": "code",
     "collapsed": false,
     "input": [
      "[x**2 for x in range(5)]"
     ],
     "language": "python",
     "metadata": {},
     "outputs": [
      {
       "metadata": {},
       "output_type": "pyout",
       "prompt_number": 50,
       "text": [
        "[0, 1, 4, 9, 16]"
       ]
      }
     ],
     "prompt_number": 50
    },
    {
     "cell_type": "code",
     "collapsed": false,
     "input": [],
     "language": "python",
     "metadata": {},
     "outputs": []
    }
   ],
   "metadata": {}
  }
 ]
}