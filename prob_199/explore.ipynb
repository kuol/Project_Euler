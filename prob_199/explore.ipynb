{
 "metadata": {
  "name": "",
  "signature": "sha256:2f68d223411601b3433cd7ed97e59fb2a306651ec4b315b58892e6e482c20d9e"
 },
 "nbformat": 3,
 "nbformat_minor": 0,
 "worksheets": [
  {
   "cells": [
    {
     "cell_type": "markdown",
     "metadata": {},
     "source": [
      "Reference: http://www.ams.org/samplings/feature-column/fcarc-kissing"
     ]
    },
    {
     "cell_type": "code",
     "collapsed": false,
     "input": [
      "import numpy as np"
     ],
     "language": "python",
     "metadata": {},
     "outputs": [],
     "prompt_number": 1
    },
    {
     "cell_type": "code",
     "collapsed": false,
     "input": [
      "class Circle(object):\n",
      "    def __init__(self,l= [0]*3):\n",
      "        self.x = l[0]\n",
      "        self.y = l[1]\n",
      "        self.r = l[2]\n",
      "    def get_radius(self):\n",
      "        return self.r\n",
      "    def get_center(self):\n",
      "        return self.x, self.y\n",
      "    def show(self):\n",
      "        print \"(x,y) = (%f, %f)\\nr = %f\" %(self.x, self.y, self.r)\n",
      "    def plot(self):\n",
      "        plt.axes()\n",
      "        circle = plt.Circle((self.x, self.y), radius=self.r, fc='y')\n",
      "        plt.gca().add_patch(circle)\n",
      "        plt.axis('scaled')\n",
      "        plt.show()"
     ],
     "language": "python",
     "metadata": {},
     "outputs": [],
     "prompt_number": 2
    },
    {
     "cell_type": "code",
     "collapsed": false,
     "input": [
      "def get_circle(c1,c2,c3):\n",
      "    xx = [c1.x, c2.x, c3.x]\n",
      "    yy = [c1.y, c2.y, c3.y]\n",
      "    rr = [c1.r if c1.r!=1 else -c1.r, c2.r if c2.r!=1 else -c2.r, c3.r if c3.r!=1 else -c3.r]\n",
      "    ## compute radius\n",
      "    k = 1.0/np.array(rr)\n",
      "    r = 1.0/(sum(k) + 2*np.sqrt(k[0]*k[1] + k[1]*k[2] + k[2]*k[0]))\n",
      "    ## compute certer\n",
      "    rhs = (xx[1]**2 - xx[0]**2) + (yy[1]**2 - yy[0]**2) + (r + rr[0])**2 - (r + rr[1])**2\n",
      "    s = -(float(xx[1]) - xx[0])/(yy[1] - yy[0])\n",
      "    t = float(rhs)/(2*(yy[1] - yy[0]))\n",
      "    \n",
      "    a = (1 + s**2)\n",
      "    b = 2*s*(t-yy[0]) - 2*xx[0]\n",
      "    c = xx[0]**2 + (t - yy[0])**2 - (r + rr[0])**2\n",
      "    \n",
      "    x1 = (-b + np.sqrt(b**2 - 4*a*c))/(2*a)\n",
      "    x2 = (-b - np.sqrt(b**2 - 4*a*c))/(2*a)\n",
      "    y1 = s*x1 + t\n",
      "    y2 = s*x2 + t\n",
      "    \n",
      "    print x1,y1\n",
      "    print x2,y2\n",
      "    \n",
      "    # Be careful here! You can't test if \"==\", since they are float numbers!\n",
      "    if (x1 - xx[2])**2 + (y1 - yy[2])**2 - (r + rr[2])**2 < 10e-12:\n",
      "        x,y = x1,y1\n",
      "    else:\n",
      "        x,y = x2,y2\n",
      "    \n",
      "    return Circle((x,y,r))"
     ],
     "language": "python",
     "metadata": {},
     "outputs": [],
     "prompt_number": 11
    },
    {
     "cell_type": "code",
     "collapsed": false,
     "input": [
      "c1 = Circle((0,0,1))\n",
      "c2 = Circle((0,4-2*np.sqrt(3), 2*np.sqrt(3)-3))\n",
      "c3 = Circle((3-2*np.sqrt(3), np.sqrt(3)-2, 2*np.sqrt(3)-3))\n",
      "c4 = Circle((-c3.x, c3.y, c3.r))"
     ],
     "language": "python",
     "metadata": {},
     "outputs": [],
     "prompt_number": 4
    },
    {
     "cell_type": "code",
     "collapsed": false,
     "input": [
      "son = get_circle(c2,c3,c4)\n",
      "son2 = get_circle(c1,c2,c3)"
     ],
     "language": "python",
     "metadata": {},
     "outputs": [
      {
       "output_type": "stream",
       "stream": "stdout",
       "text": [
        "-4.57966997658e-16 4.71577806159e-16\n",
        "-0.464101615138 0.267949192431\n",
        "0.672027713219 0.38799538113\n",
        "-0.672027713219 0.38799538113\n"
       ]
      }
     ],
     "prompt_number": 12
    },
    {
     "cell_type": "code",
     "collapsed": true,
     "input": [
      "son.show()"
     ],
     "language": "python",
     "metadata": {},
     "outputs": [
      {
       "output_type": "stream",
       "stream": "stdout",
       "text": [
        "(x,y) = (-0.000000, 0.000000)\n",
        "r = 0.071797\n"
       ]
      }
     ],
     "prompt_number": 13
    },
    {
     "cell_type": "code",
     "collapsed": true,
     "input": [
      "son2.show()"
     ],
     "language": "python",
     "metadata": {},
     "outputs": [
      {
       "output_type": "stream",
       "stream": "stdout",
       "text": [
        "(x,y) = (-0.672028, 0.387995)\n",
        "r = 0.224009\n"
       ]
      }
     ],
     "prompt_number": 14
    },
    {
     "cell_type": "code",
     "collapsed": false,
     "input": [
      "import matplotlib.pyplot as plt\n",
      "cir1 = plt.Circle((c1.x,c1.y),c1.r,color='blue')\n",
      "cir2 = plt.Circle((c2.x,c2.y),c2.r,color='y')\n",
      "cir3 = plt.Circle((c3.x,c3.y),c3.r,color='y')\n",
      "cir4 = plt.Circle((c4.x,c4.y),c4.r,color='y')\n",
      "cir5 = plt.Circle((son.x,son.y),son.r,color='green')\n",
      "cir6 = plt.Circle((son2.x,son2.y),son2.r,color='green')\n",
      "\n",
      "plt.gca().add_patch(cir1)\n",
      "plt.gca().add_patch(cir2)\n",
      "plt.gca().add_patch(cir3)\n",
      "plt.gca().add_patch(cir4)\n",
      "plt.gca().add_patch(cir5)\n",
      "plt.gca().add_patch(cir6)\n",
      "\n",
      "plt.axis('scaled')\n",
      "plt.show()"
     ],
     "language": "python",
     "metadata": {},
     "outputs": [
      {
       "metadata": {},
       "output_type": "display_data",
       "png": "[encoded data removed]",
       "text": [
        "<matplotlib.figure.Figure at 0x10835fb10>"
       ]
      }
     ],
     "prompt_number": 15
    },
    {
     "cell_type": "code",
     "collapsed": false,
     "input": [
      "a = np.array(range(9)).reshape((3,3))"
     ],
     "language": "python",
     "metadata": {},
     "outputs": [],
     "prompt_number": 41
    },
    {
     "cell_type": "code",
     "collapsed": false,
     "input": [],
     "language": "python",
     "metadata": {},
     "outputs": []
    },
    {
     "cell_type": "code",
     "collapsed": false,
     "input": [
      "sqrt(2)"
     ],
     "language": "python",
     "metadata": {},
     "outputs": [
      {
       "metadata": {},
       "output_type": "pyout",
       "prompt_number": 61,
       "text": [
        "1.4142135623730951"
       ]
      }
     ],
     "prompt_number": 61
    },
    {
     "cell_type": "code",
     "collapsed": false,
     "input": [
      "b=np.delete(a,1,1)"
     ],
     "language": "python",
     "metadata": {},
     "outputs": [],
     "prompt_number": 49
    },
    {
     "cell_type": "code",
     "collapsed": false,
     "input": [
      "b"
     ],
     "language": "python",
     "metadata": {},
     "outputs": [
      {
       "metadata": {},
       "output_type": "pyout",
       "prompt_number": 50,
       "text": [
        "array([[0, 2],\n",
        "       [3, 5],\n",
        "       [6, 8]])"
       ]
      }
     ],
     "prompt_number": 50
    },
    {
     "cell_type": "code",
     "collapsed": false,
     "input": [
      "np.delete(b,0,0)"
     ],
     "language": "python",
     "metadata": {},
     "outputs": [
      {
       "metadata": {},
       "output_type": "pyout",
       "prompt_number": 51,
       "text": [
        "array([[3, 5],\n",
        "       [6, 8]])"
       ]
      }
     ],
     "prompt_number": 51
    },
    {
     "cell_type": "code",
     "collapsed": false,
     "input": [
      "(-1)**0"
     ],
     "language": "python",
     "metadata": {},
     "outputs": [
      {
       "metadata": {},
       "output_type": "pyout",
       "prompt_number": 40,
       "text": [
        "1"
       ]
      }
     ],
     "prompt_number": 40
    },
    {
     "cell_type": "code",
     "collapsed": false,
     "input": [
      "import matplotlib.pyplot as plt\n",
      "\n",
      "plt.axes()\n",
      "\n",
      "circle = plt.Circle((0, 0), radius=0.75, fc='y')\n",
      "plt.gca().add_patch(circle)\n",
      "\n",
      "plt.axis('scaled')\n",
      "plt.show()"
     ],
     "language": "python",
     "metadata": {},
     "outputs": [
      {
       "metadata": {},
       "output_type": "display_data",
       "png": "[encoded data removed]",
       "text": [
        "<matplotlib.figure.Figure at 0x1076440d0>"
       ]
      }
     ],
     "prompt_number": 68
    },
    {
     "cell_type": "code",
     "collapsed": false,
     "input": [
      "a = np.array(range(1,5))\n",
      "k = 1.0/a"
     ],
     "language": "python",
     "metadata": {},
     "outputs": [],
     "prompt_number": 4
    },
    {
     "cell_type": "code",
     "collapsed": false,
     "input": [
      "a"
     ],
     "language": "python",
     "metadata": {},
     "outputs": [
      {
       "metadata": {},
       "output_type": "pyout",
       "prompt_number": 5,
       "text": [
        "array([1, 2, 3, 4])"
       ]
      }
     ],
     "prompt_number": 5
    },
    {
     "cell_type": "code",
     "collapsed": false,
     "input": [
      "k"
     ],
     "language": "python",
     "metadata": {},
     "outputs": [
      {
       "metadata": {},
       "output_type": "pyout",
       "prompt_number": 6,
       "text": [
        "array([ 1.        ,  0.5       ,  0.33333333,  0.25      ])"
       ]
      }
     ],
     "prompt_number": 6
    },
    {
     "cell_type": "code",
     "collapsed": false,
     "input": [],
     "language": "python",
     "metadata": {},
     "outputs": []
    }
   ],
   "metadata": {}
  }
 ]
}