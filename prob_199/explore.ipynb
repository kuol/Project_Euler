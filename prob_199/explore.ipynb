{
 "metadata": {
  "name": "",
  "signature": "sha256:03a66957e00c7ffc30444bdec317f7d423bdc74016cb1910016d1d7c77c48b9a"
 },
 "nbformat": 3,
 "nbformat_minor": 0,
 "worksheets": [
  {
   "cells": [
    {
     "cell_type": "code",
     "collapsed": false,
     "input": [
      "import numpy as np"
     ],
     "language": "python",
     "metadata": {},
     "outputs": [],
     "prompt_number": 52
    },
    {
     "cell_type": "code",
     "collapsed": false,
     "input": [
      "class Circle(object):\n",
      "    def __init__(self,l= [0]*3):\n",
      "        self.x = l[0]\n",
      "        self.y = l[1]\n",
      "        self.r = l[2]\n",
      "    def get_radius(self):\n",
      "        return self.r\n",
      "    def get_center(self):\n",
      "        return self.x, self.y\n",
      "    def show(self):\n",
      "        print \"(x,y) = (%f, %f)\\nr = %f\" %(self.x, self.y, self.r)\n",
      "    def plot(self):\n",
      "        plt.axes()\n",
      "        circle = plt.Circle((self.x, self.y), radius=self.r, fc='y')\n",
      "        plt.gca().add_patch(circle)\n",
      "        plt.axis('scaled')\n",
      "        plt.show()"
     ],
     "language": "python",
     "metadata": {},
     "outputs": [],
     "prompt_number": 73
    },
    {
     "cell_type": "code",
     "collapsed": false,
     "input": [
      "def get_circle(c1,c2,c3):\n",
      "    x = [c1.x, c2.x, c3.x]\n",
      "    y = [c1.y, c2.y, c3.y]\n",
      "    r = [c1.r if c1.r!=1 else -c1.r, c2.r if c2.r!=1 else -c2.r, c3.r if c3.r!=1 else -c3.r,]\n",
      "    \n",
      "    A = np.empty((3,3))\n",
      "    b = np.empty(3)\n",
      "    soln = np.empty(3)\n",
      "    for i in xrange(3):\n",
      "        A[i,0] = 2*(x[(i+1)%3] - x[i])\n",
      "        A[i,1] = 2*(y[(i+1)%3] - y[i])\n",
      "        A[i,2] = 2*(r[(i+1)%3] - r[i])\n",
      "        b[i] = (x[(i+1)%3]**2 - x[i]**2) + (y[(i+1)%3]**2 - y[i]**2) - (r[(i+1)%3]**2 - r[i]**2)\n",
      "    \n",
      "    cramer_solver(A,b,soln)\n",
      "    return Circle(soln)\n",
      "    \n",
      "    "
     ],
     "language": "python",
     "metadata": {},
     "outputs": [],
     "prompt_number": 54
    },
    {
     "cell_type": "code",
     "collapsed": false,
     "input": [
      "def cramer_solver(A,b,x):\n",
      "    denom = det(A)\n",
      "    numer = np.empty(3)\n",
      "    if denom == 0:\n",
      "        print \"Equation doens't have unique solution, abort\"\n",
      "        return 1\n",
      "    elif A.shape[0] != size(b) or A.shape[0] != size(x):\n",
      "        print \"Flawed input size, abort\"\n",
      "        return 1\n",
      "    else:\n",
      "        for i in size(b):\n",
      "            temp = A.copy()\n",
      "            temp[:,i] = b\n",
      "            numer[i] = det(temp)\n",
      "        x = numer/float(denom)"
     ],
     "language": "python",
     "metadata": {},
     "outputs": [],
     "prompt_number": 55
    },
    {
     "cell_type": "code",
     "collapsed": false,
     "input": [
      "def det(A):\n",
      "    if size(A) == 1:\n",
      "        return A\n",
      "    elif A.shape[0] != A.shape[1]:\n",
      "        return 0\n",
      "    else:\n",
      "        result = 0\n",
      "        for i in xrange(A.shape[0]):\n",
      "            temp = np.delete(A,0,0) # delete Row 0\n",
      "            temp = np.delete(A,i,1) # delete Column i\n",
      "            result = result + (-1)**(i&1)*A[0,i]*det(temp)\n",
      "        return result\n",
      "        "
     ],
     "language": "python",
     "metadata": {},
     "outputs": [],
     "prompt_number": 56
    },
    {
     "cell_type": "code",
     "collapsed": false,
     "input": [
      "c1 = Circle((0,0,1))\n",
      "c2 = Circle((0,4-2*sqrt(3), 2*sqrt(3)-3))\n",
      "c3 = Circle((3-2*sqrt(3), sqrt(3)-2, 2*sqrt(3)-3))\n",
      "c4 = Circle((-c3.x, c3.y, c3.r))"
     ],
     "language": "python",
     "metadata": {},
     "outputs": [],
     "prompt_number": 85
    },
    {
     "cell_type": "code",
     "collapsed": false,
     "input": [
      "son = get_circle(c2,c3,c4)"
     ],
     "language": "python",
     "metadata": {},
     "outputs": [
      {
       "output_type": "stream",
       "stream": "stdout",
       "text": [
        "Equation doens't have unique solution, abort\n"
       ]
      }
     ],
     "prompt_number": 88
    },
    {
     "cell_type": "code",
     "collapsed": false,
     "input": [
      "import matplotlib.pyplot as plt\n",
      "cir1 = plt.Circle((c1.x,c1.y),c1.r,color='blue')\n",
      "cir2 = plt.Circle((c2.x,c2.y),c2.r,color='y')\n",
      "cir3 = plt.Circle((c3.x,c3.y),c3.r,color='y')\n",
      "cir4 = plt.Circle((c4.x,c4.y),c4.r,color='y')\n",
      "\n",
      "plt.gca().add_patch(cir1)\n",
      "plt.gca().add_patch(cir2)\n",
      "plt.gca().add_patch(cir3)\n",
      "plt.gca().add_patch(cir4)\n",
      "\n",
      "plt.axis('scaled')\n",
      "plt.show()"
     ],
     "language": "python",
     "metadata": {},
     "outputs": [
      {
       "metadata": {},
       "output_type": "display_data",
       "png": "[encoded data removed]",
       "text": [
        "<matplotlib.figure.Figure at 0x109c96610>"
       ]
      }
     ],
     "prompt_number": 86
    },
    {
     "cell_type": "code",
     "collapsed": false,
     "input": [
      "a = np.array(range(9)).reshape((3,3))"
     ],
     "language": "python",
     "metadata": {},
     "outputs": [],
     "prompt_number": 41
    },
    {
     "cell_type": "code",
     "collapsed": false,
     "input": [],
     "language": "python",
     "metadata": {},
     "outputs": []
    },
    {
     "cell_type": "code",
     "collapsed": false,
     "input": [
      "sqrt(2)"
     ],
     "language": "python",
     "metadata": {},
     "outputs": [
      {
       "metadata": {},
       "output_type": "pyout",
       "prompt_number": 61,
       "text": [
        "1.4142135623730951"
       ]
      }
     ],
     "prompt_number": 61
    },
    {
     "cell_type": "code",
     "collapsed": false,
     "input": [
      "b=np.delete(a,1,1)"
     ],
     "language": "python",
     "metadata": {},
     "outputs": [],
     "prompt_number": 49
    },
    {
     "cell_type": "code",
     "collapsed": false,
     "input": [
      "b"
     ],
     "language": "python",
     "metadata": {},
     "outputs": [
      {
       "metadata": {},
       "output_type": "pyout",
       "prompt_number": 50,
       "text": [
        "array([[0, 2],\n",
        "       [3, 5],\n",
        "       [6, 8]])"
       ]
      }
     ],
     "prompt_number": 50
    },
    {
     "cell_type": "code",
     "collapsed": false,
     "input": [
      "np.delete(b,0,0)"
     ],
     "language": "python",
     "metadata": {},
     "outputs": [
      {
       "metadata": {},
       "output_type": "pyout",
       "prompt_number": 51,
       "text": [
        "array([[3, 5],\n",
        "       [6, 8]])"
       ]
      }
     ],
     "prompt_number": 51
    },
    {
     "cell_type": "code",
     "collapsed": false,
     "input": [
      "(-1)**0"
     ],
     "language": "python",
     "metadata": {},
     "outputs": [
      {
       "metadata": {},
       "output_type": "pyout",
       "prompt_number": 40,
       "text": [
        "1"
       ]
      }
     ],
     "prompt_number": 40
    },
    {
     "cell_type": "code",
     "collapsed": false,
     "input": [
      "import matplotlib.pyplot as plt\n",
      "\n",
      "plt.axes()\n",
      "\n",
      "circle = plt.Circle((0, 0), radius=0.75, fc='y')\n",
      "plt.gca().add_patch(circle)\n",
      "\n",
      "plt.axis('scaled')\n",
      "plt.show()"
     ],
     "language": "python",
     "metadata": {},
     "outputs": [
      {
       "metadata": {},
       "output_type": "display_data",
       "png": "[encoded data removed]",
       "text": [
        "<matplotlib.figure.Figure at 0x1076440d0>"
       ]
      }
     ],
     "prompt_number": 68
    },
    {
     "cell_type": "code",
     "collapsed": false,
     "input": [],
     "language": "python",
     "metadata": {},
     "outputs": []
    }
   ],
   "metadata": {}
  }
 ]
}