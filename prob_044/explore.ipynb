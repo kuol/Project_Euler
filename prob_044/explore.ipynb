{
 "metadata": {
  "name": "",
  "signature": "sha256:6cf54c4105fd99b1fe92dc7529c78cd295b930815cb4cda8ef1ced3668c9ac82"
 },
 "nbformat": 3,
 "nbformat_minor": 0,
 "worksheets": [
  {
   "cells": [
    {
     "cell_type": "code",
     "collapsed": false,
     "input": [
      "import numpy as np"
     ],
     "language": "python",
     "metadata": {},
     "outputs": [],
     "prompt_number": 1
    },
    {
     "cell_type": "code",
     "collapsed": false,
     "input": [
      "x = np.arange(0,100)"
     ],
     "language": "python",
     "metadata": {},
     "outputs": [],
     "prompt_number": 2
    },
    {
     "cell_type": "code",
     "collapsed": false,
     "input": [
      "plot(x, x*(3*x-1)/2, 'b.')"
     ],
     "language": "python",
     "metadata": {},
     "outputs": [
      {
       "metadata": {},
       "output_type": "pyout",
       "prompt_number": 7,
       "text": [
        "[<matplotlib.lines.Line2D at 0x108bae410>]"
       ]
      },
      {
       "metadata": {},
       "output_type": "display_data",
       "png": "[encoded data removed]",
       "text": [
        "<matplotlib.figure.Figure at 0x108acba10>"
       ]
      }
     ],
     "prompt_number": 7
    },
    {
     "cell_type": "code",
     "collapsed": false,
     "input": [
      "[x*(3*x-1)/2 for x in xrange(1,100)]"
     ],
     "language": "python",
     "metadata": {},
     "outputs": [
      {
       "metadata": {},
       "output_type": "pyout",
       "prompt_number": 8,
       "text": [
        "[1,\n",
        " 5,\n",
        " 12,\n",
        " 22,\n",
        " 35,\n",
        " 51,\n",
        " 70,\n",
        " 92,\n",
        " 117,\n",
        " 145,\n",
        " 176,\n",
        " 210,\n",
        " 247,\n",
        " 287,\n",
        " 330,\n",
        " 376,\n",
        " 425,\n",
        " 477,\n",
        " 532,\n",
        " 590,\n",
        " 651,\n",
        " 715,\n",
        " 782,\n",
        " 852,\n",
        " 925,\n",
        " 1001,\n",
        " 1080,\n",
        " 1162,\n",
        " 1247,\n",
        " 1335,\n",
        " 1426,\n",
        " 1520,\n",
        " 1617,\n",
        " 1717,\n",
        " 1820,\n",
        " 1926,\n",
        " 2035,\n",
        " 2147,\n",
        " 2262,\n",
        " 2380,\n",
        " 2501,\n",
        " 2625,\n",
        " 2752,\n",
        " 2882,\n",
        " 3015,\n",
        " 3151,\n",
        " 3290,\n",
        " 3432,\n",
        " 3577,\n",
        " 3725,\n",
        " 3876,\n",
        " 4030,\n",
        " 4187,\n",
        " 4347,\n",
        " 4510,\n",
        " 4676,\n",
        " 4845,\n",
        " 5017,\n",
        " 5192,\n",
        " 5370,\n",
        " 5551,\n",
        " 5735,\n",
        " 5922,\n",
        " 6112,\n",
        " 6305,\n",
        " 6501,\n",
        " 6700,\n",
        " 6902,\n",
        " 7107,\n",
        " 7315,\n",
        " 7526,\n",
        " 7740,\n",
        " 7957,\n",
        " 8177,\n",
        " 8400,\n",
        " 8626,\n",
        " 8855,\n",
        " 9087,\n",
        " 9322,\n",
        " 9560,\n",
        " 9801,\n",
        " 10045,\n",
        " 10292,\n",
        " 10542,\n",
        " 10795,\n",
        " 11051,\n",
        " 11310,\n",
        " 11572,\n",
        " 11837,\n",
        " 12105,\n",
        " 12376,\n",
        " 12650,\n",
        " 12927,\n",
        " 13207,\n",
        " 13490,\n",
        " 13776,\n",
        " 14065,\n",
        " 14357,\n",
        " 14652]"
       ]
      }
     ],
     "prompt_number": 8
    },
    {
     "cell_type": "code",
     "collapsed": false,
     "input": [],
     "language": "python",
     "metadata": {},
     "outputs": []
    }
   ],
   "metadata": {}
  }
 ]
}