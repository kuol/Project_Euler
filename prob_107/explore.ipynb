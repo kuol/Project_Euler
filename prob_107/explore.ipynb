{
 "cells": [
  {
   "cell_type": "code",
   "execution_count": 45,
   "metadata": {
    "collapsed": true
   },
   "outputs": [],
   "source": [
    "import numpy as np"
   ]
  },
  {
   "cell_type": "code",
   "execution_count": 46,
   "metadata": {
    "collapsed": true
   },
   "outputs": [],
   "source": [
    "from numpy import genfromtxt\n",
    "my_data = genfromtxt('p107_network.txt', delimiter=',')"
   ]
  },
  {
   "cell_type": "code",
   "execution_count": 41,
   "metadata": {
    "collapsed": false
   },
   "outputs": [
    {
     "data": {
      "text/plain": [
       "523664.0"
      ]
     },
     "execution_count": 41,
     "metadata": {},
     "output_type": "execute_result"
    }
   ],
   "source": [
    "np.nansum(my_data)"
   ]
  },
  {
   "cell_type": "code",
   "execution_count": 47,
   "metadata": {
    "collapsed": false
   },
   "outputs": [],
   "source": [
    "where_nan = np.isnan(my_data)"
   ]
  },
  {
   "cell_type": "code",
   "execution_count": 48,
   "metadata": {
    "collapsed": false
   },
   "outputs": [],
   "source": [
    "my_data[where_nan] = np.inf"
   ]
  },
  {
   "cell_type": "code",
   "execution_count": 49,
   "metadata": {
    "collapsed": false
   },
   "outputs": [
    {
     "data": {
      "text/plain": [
       "array([  inf,   inf,   inf,  427.,  668.,  495.,  377.,  678.,   inf,\n",
       "        177.,   inf,   inf,  870.,   inf,  869.,  624.,  300.,  609.,\n",
       "        131.,   inf,  251.,   inf,   inf,   inf,  856.,  221.,  514.,\n",
       "         inf,  591.,  762.,  182.,   56.,   inf,  884.,  412.,  273.,\n",
       "        636.,   inf,   inf,  774.])"
      ]
     },
     "execution_count": 49,
     "metadata": {},
     "output_type": "execute_result"
    }
   ],
   "source": [
    "my_data[0,:]"
   ]
  },
  {
   "cell_type": "code",
   "execution_count": 14,
   "metadata": {
    "collapsed": false
   },
   "outputs": [
    {
     "data": {
      "text/plain": [
       "56.0"
      ]
     },
     "execution_count": 14,
     "metadata": {},
     "output_type": "execute_result"
    }
   ],
   "source": [
    "min(my_data[0, :])"
   ]
  },
  {
   "cell_type": "code",
   "execution_count": 15,
   "metadata": {
    "collapsed": false
   },
   "outputs": [
    {
     "data": {
      "text/plain": [
       "31"
      ]
     },
     "execution_count": 15,
     "metadata": {},
     "output_type": "execute_result"
    }
   ],
   "source": [
    "np.argmin(my_data[0, :])"
   ]
  },
  {
   "cell_type": "code",
   "execution_count": 16,
   "metadata": {
    "collapsed": true
   },
   "outputs": [],
   "source": [
    "tree = [0]"
   ]
  },
  {
   "cell_type": "code",
   "execution_count": 17,
   "metadata": {
    "collapsed": false
   },
   "outputs": [
    {
     "data": {
      "text/plain": [
       "1"
      ]
     },
     "execution_count": 17,
     "metadata": {},
     "output_type": "execute_result"
    }
   ],
   "source": [
    "len(tree)"
   ]
  },
  {
   "cell_type": "code",
   "execution_count": 18,
   "metadata": {
    "collapsed": false
   },
   "outputs": [
    {
     "data": {
      "text/plain": [
       "(40, 40)"
      ]
     },
     "execution_count": 18,
     "metadata": {},
     "output_type": "execute_result"
    }
   ],
   "source": [
    "my_data.shape"
   ]
  },
  {
   "cell_type": "code",
   "execution_count": 21,
   "metadata": {
    "collapsed": true
   },
   "outputs": [],
   "source": [
    "my_data[0,1] = my_data[1,0] = 3"
   ]
  },
  {
   "cell_type": "code",
   "execution_count": 22,
   "metadata": {
    "collapsed": false
   },
   "outputs": [
    {
     "data": {
      "text/plain": [
       "array([[   3.,    3.,   inf, ...,   inf,   inf,  774.],\n",
       "       [   3.,   inf,  262., ...,  102.,  636.,  289.],\n",
       "       [  inf,  262.,   inf, ...,  168.,  432.,  833.],\n",
       "       ..., \n",
       "       [  inf,  102.,  168., ...,   inf,  371.,  680.],\n",
       "       [  inf,  636.,  432., ...,  371.,   inf,  540.],\n",
       "       [ 774.,  289.,  833., ...,  680.,  540.,   inf]])"
      ]
     },
     "execution_count": 22,
     "metadata": {},
     "output_type": "execute_result"
    }
   ],
   "source": [
    "my_data"
   ]
  },
  {
   "cell_type": "code",
   "execution_count": 30,
   "metadata": {
    "collapsed": false
   },
   "outputs": [
    {
     "data": {
      "text/plain": [
       "3.0"
      ]
     },
     "execution_count": 30,
     "metadata": {},
     "output_type": "execute_result"
    }
   ],
   "source": [
    "np.amin(my_data[[0,3,5]])"
   ]
  },
  {
   "cell_type": "code",
   "execution_count": 32,
   "metadata": {
    "collapsed": false
   },
   "outputs": [
    {
     "data": {
      "text/plain": [
       "0"
      ]
     },
     "execution_count": 32,
     "metadata": {},
     "output_type": "execute_result"
    }
   ],
   "source": [
    "my_data[[0,3,5]].argmin()"
   ]
  },
  {
   "cell_type": "code",
   "execution_count": 50,
   "metadata": {
    "collapsed": false
   },
   "outputs": [
    {
     "data": {
      "text/plain": [
       "array([[  inf,   inf,   inf,  427.,  668.,  495.,  377.,  678.,   inf,\n",
       "         177.,   inf,   inf,  870.,   inf,  869.,  624.,  300.,  609.,\n",
       "         131.,   inf,  251.,   inf,   inf,   inf,  856.,  221.,  514.,\n",
       "          inf,  591.,  762.,  182.,   56.,   inf,  884.,  412.,  273.,\n",
       "         636.,   inf,   inf,  774.],\n",
       "       [  56.,   inf,  699.,  615.,  873.,   inf,  232.,  900.,  883.,\n",
       "          inf,  772.,  675.,   inf,  227.,   inf,   68.,  196.,   inf,\n",
       "         649.,  182.,  927.,  962.,   inf,   inf,  349.,  736.,   inf,\n",
       "          inf,  505.,  349.,  965.,   inf,  474.,  178.,  833.,   inf,\n",
       "          inf,  555.,  853.,   inf]])"
      ]
     },
     "execution_count": 50,
     "metadata": {},
     "output_type": "execute_result"
    }
   ],
   "source": [
    "my_data[[0,31]]\n"
   ]
  },
  {
   "cell_type": "code",
   "execution_count": 55,
   "metadata": {
    "collapsed": false
   },
   "outputs": [
    {
     "data": {
      "text/plain": [
       "68.0"
      ]
     },
     "execution_count": 55,
     "metadata": {},
     "output_type": "execute_result"
    }
   ],
   "source": [
    "np.amin(my_data[[0,31]])"
   ]
  },
  {
   "cell_type": "code",
   "execution_count": 53,
   "metadata": {
    "collapsed": true
   },
   "outputs": [],
   "source": [
    "my_data[0,31] = my_data[31, 0] = np.inf"
   ]
  },
  {
   "cell_type": "code",
   "execution_count": 56,
   "metadata": {
    "collapsed": false
   },
   "outputs": [
    {
     "data": {
      "text/plain": [
       "array([[  inf,   inf,   inf,  427.,  668.,  495.,  377.,  678.,   inf,\n",
       "         177.,   inf,   inf,  870.,   inf,  869.,  624.,  300.,  609.,\n",
       "         131.,   inf,  251.,   inf,   inf,   inf,  856.,  221.,  514.,\n",
       "          inf,  591.,  762.,  182.,   inf,   inf,  884.,  412.,  273.,\n",
       "         636.,   inf,   inf,  774.]])"
      ]
     },
     "execution_count": 56,
     "metadata": {},
     "output_type": "execute_result"
    }
   ],
   "source": [
    "my_data[[0]]"
   ]
  },
  {
   "cell_type": "code",
   "execution_count": 57,
   "metadata": {
    "collapsed": true
   },
   "outputs": [],
   "source": [
    "my_data[[0,1], 1] = 0"
   ]
  },
  {
   "cell_type": "code",
   "execution_count": 58,
   "metadata": {
    "collapsed": false
   },
   "outputs": [
    {
     "data": {
      "text/plain": [
       "array([[  inf,    0.,   inf, ...,   inf,   inf,  774.],\n",
       "       [  inf,    0.,  262., ...,  102.,  636.,  289.],\n",
       "       [  inf,  262.,   inf, ...,  168.,  432.,  833.],\n",
       "       ..., \n",
       "       [  inf,  102.,  168., ...,   inf,  371.,  680.],\n",
       "       [  inf,  636.,  432., ...,  371.,   inf,  540.],\n",
       "       [ 774.,  289.,  833., ...,  680.,  540.,   inf]])"
      ]
     },
     "execution_count": 58,
     "metadata": {},
     "output_type": "execute_result"
    }
   ],
   "source": [
    "my_data"
   ]
  },
  {
   "cell_type": "code",
   "execution_count": 59,
   "metadata": {
    "collapsed": false
   },
   "outputs": [
    {
     "data": {
      "text/plain": [
       "array([[  inf,    0.,   inf,  427.,  668.,  495.,  377.,  678.,   inf,\n",
       "         177.,   inf,   inf,  870.,   inf,  869.,  624.,  300.,  609.,\n",
       "         131.,   inf,  251.,   inf,   inf,   inf,  856.,  221.,  514.,\n",
       "          inf,  591.,  762.,  182.,   inf,   inf,  884.,  412.,  273.,\n",
       "         636.,   inf,   inf,  774.],\n",
       "       [  inf,    0.,  262.,   inf,   inf,  508.,  472.,  799.,   inf,\n",
       "         956.,  578.,  363.,  940.,  143.,   inf,  162.,  122.,  910.,\n",
       "          inf,  729.,  802.,  941.,  922.,  573.,  531.,  539.,  667.,\n",
       "         607.,   inf,  920.,   inf,   inf,  315.,  649.,  937.,   inf,\n",
       "         185.,  102.,  636.,  289.]])"
      ]
     },
     "execution_count": 59,
     "metadata": {},
     "output_type": "execute_result"
    }
   ],
   "source": [
    "my_data[[0,1]]"
   ]
  },
  {
   "cell_type": "code",
   "execution_count": null,
   "metadata": {
    "collapsed": true
   },
   "outputs": [],
   "source": []
  }
 ],
 "metadata": {
  "kernelspec": {
   "display_name": "Python 2",
   "language": "python",
   "name": "python2"
  },
  "language_info": {
   "codemirror_mode": {
    "name": "ipython",
    "version": 2
   },
   "file_extension": ".py",
   "mimetype": "text/x-python",
   "name": "python",
   "nbconvert_exporter": "python",
   "pygments_lexer": "ipython2",
   "version": "2.7.12"
  },
  "widgets": {
   "state": {},
   "version": "1.1.2"
  }
 },
 "nbformat": 4,
 "nbformat_minor": 0
}
