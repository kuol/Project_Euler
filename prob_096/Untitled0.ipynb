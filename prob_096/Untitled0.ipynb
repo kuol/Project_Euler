{
 "metadata": {
  "name": "",
  "signature": "sha256:835cb592249aa7422086f704f88188aeb07519a21f36e0993a7526deacbdd292"
 },
 "nbformat": 3,
 "nbformat_minor": 0,
 "worksheets": [
  {
   "cells": [
    {
     "cell_type": "code",
     "collapsed": false,
     "input": [
      "import numpy as np"
     ],
     "language": "python",
     "metadata": {},
     "outputs": [],
     "prompt_number": 39
    },
    {
     "cell_type": "code",
     "collapsed": false,
     "input": [
      "a = []\n",
      "for line in open(\"sudoku.txt\"):\n",
      "    li=line.strip()\n",
      "    if not li.startswith(\"Grid\"):\n",
      "        a = a + [int(x) for x in li]"
     ],
     "language": "python",
     "metadata": {},
     "outputs": [],
     "prompt_number": 34
    },
    {
     "cell_type": "code",
     "collapsed": false,
     "input": [
      "# The first axis is \"z\"\n",
      "b = np.array(a).reshape(50,9,9)"
     ],
     "language": "python",
     "metadata": {},
     "outputs": [],
     "prompt_number": 48
    },
    {
     "cell_type": "code",
     "collapsed": false,
     "input": [
      "A = b[44,:,:]"
     ],
     "language": "python",
     "metadata": {},
     "outputs": [],
     "prompt_number": 85
    },
    {
     "cell_type": "code",
     "collapsed": false,
     "input": [
      "A"
     ],
     "language": "python",
     "metadata": {},
     "outputs": [
      {
       "metadata": {},
       "output_type": "pyout",
       "prompt_number": 86,
       "text": [
        "array([[0, 8, 0, 0, 0, 0, 0, 4, 0],\n",
        "       [0, 0, 0, 4, 6, 9, 0, 0, 0],\n",
        "       [4, 0, 0, 0, 0, 0, 0, 0, 7],\n",
        "       [0, 0, 5, 9, 0, 4, 6, 0, 0],\n",
        "       [0, 7, 0, 6, 0, 8, 0, 3, 0],\n",
        "       [0, 0, 8, 5, 0, 2, 1, 0, 0],\n",
        "       [9, 0, 0, 0, 0, 0, 0, 0, 5],\n",
        "       [0, 0, 0, 7, 8, 1, 0, 0, 0],\n",
        "       [0, 6, 0, 0, 0, 0, 0, 1, 0]])"
       ]
      }
     ],
     "prompt_number": 86
    },
    {
     "cell_type": "code",
     "collapsed": false,
     "input": [
      "i,j = A.argmax()/9, A.argmax()%9\n",
      "i,j"
     ],
     "language": "python",
     "metadata": {},
     "outputs": [
      {
       "metadata": {},
       "output_type": "pyout",
       "prompt_number": 95,
       "text": [
        "(1, 5)"
       ]
      }
     ],
     "prompt_number": 95
    },
    {
     "cell_type": "code",
     "collapsed": false,
     "input": [
      "group = [set( list(A[i:i+3, j:j+3].flatten()) ) for i in xrange(0,9,3) for j in xrange(0,9,3)]\n",
      "          "
     ],
     "language": "python",
     "metadata": {},
     "outputs": [],
     "prompt_number": 69
    },
    {
     "cell_type": "code",
     "collapsed": false,
     "input": [
      "group = []\n",
      "for i in xrange(0,9,3):\n",
      "    for j in xrange(0,9,3):\n",
      "        s = set(list(A[i:i+3, j:j+3].flatten()))\n",
      "        group.append(s)\n",
      "        "
     ],
     "language": "python",
     "metadata": {},
     "outputs": [],
     "prompt_number": 78
    },
    {
     "cell_type": "raw",
     "metadata": {},
     "source": [
      "print group"
     ]
    },
    {
     "cell_type": "code",
     "collapsed": false,
     "input": [
      "l = list(A[:3,:3].flatten())"
     ],
     "language": "python",
     "metadata": {},
     "outputs": [],
     "prompt_number": 68
    },
    {
     "cell_type": "code",
     "collapsed": false,
     "input": [
      "A[:3,:3].flatten()"
     ],
     "language": "python",
     "metadata": {},
     "outputs": [
      {
       "metadata": {},
       "output_type": "pyout",
       "prompt_number": 64,
       "text": [
        "array([0, 3, 0, 0, 0, 8, 4, 6, 0])"
       ]
      }
     ],
     "prompt_number": 64
    },
    {
     "cell_type": "code",
     "collapsed": false,
     "input": [
      "l"
     ],
     "language": "python",
     "metadata": {},
     "outputs": [
      {
       "metadata": {},
       "output_type": "pyout",
       "prompt_number": 65,
       "text": [
        "[0, 3, 0, 0, 0, 8, 4, 6, 0]"
       ]
      }
     ],
     "prompt_number": 65
    },
    {
     "cell_type": "code",
     "collapsed": false,
     "input": [
      "set(l)"
     ],
     "language": "python",
     "metadata": {},
     "outputs": [
      {
       "metadata": {},
       "output_type": "pyout",
       "prompt_number": 66,
       "text": [
        "{0, 3, 4, 6, 8}"
       ]
      }
     ],
     "prompt_number": 66
    },
    {
     "cell_type": "code",
     "collapsed": false,
     "input": [
      "set( list(A[i:i+3, j:j+3].flatten()) )"
     ],
     "language": "python",
     "metadata": {},
     "outputs": [
      {
       "metadata": {},
       "output_type": "pyout",
       "prompt_number": 72,
       "text": [
        "{0, 2, 6, 8, 9}"
       ]
      }
     ],
     "prompt_number": 72
    },
    {
     "cell_type": "code",
     "collapsed": false,
     "input": [
      "temp = set([2])"
     ],
     "language": "python",
     "metadata": {},
     "outputs": [],
     "prompt_number": 87
    },
    {
     "cell_type": "code",
     "collapsed": false,
     "input": [
      "temp"
     ],
     "language": "python",
     "metadata": {},
     "outputs": [
      {
       "metadata": {},
       "output_type": "pyout",
       "prompt_number": 88,
       "text": [
        "{2}"
       ]
      }
     ],
     "prompt_number": 88
    },
    {
     "cell_type": "code",
     "collapsed": false,
     "input": [
      "print '-'*28 \n",
      "for i in xrange(9):\n",
      "    for j in xrange(9):\n",
      "        if j==0:\n",
      "            print('|'),\n",
      "        if j%3 == 2:\n",
      "            print(\"%d|\" %i),\n",
      "        else:\n",
      "            print(\"%d \" %i),      \n",
      "    print\n",
      "    if i%3==2:\n",
      "        print '-'*28 "
     ],
     "language": "python",
     "metadata": {},
     "outputs": [
      {
       "output_type": "stream",
       "stream": "stdout",
       "text": [
        "----------------------------\n",
        "| 0  0  0| 0  0  0| 0  0  0|\n",
        "| 1  1  1| 1  1  1| 1  1  1|\n",
        "| 2  2  2| 2  2  2| 2  2  2|\n",
        "----------------------------\n",
        "| 3  3  3| 3  3  3| 3  3  3|\n",
        "| 4  4  4| 4  4  4| 4  4  4|\n",
        "| 5  5  5| 5  5  5| 5  5  5|\n",
        "----------------------------\n",
        "| 6  6  6| 6  6  6| 6  6  6|\n",
        "| 7  7  7| 7  7  7| 7  7  7|\n",
        "| 8  8  8| 8  8  8| 8  8  8|\n",
        "----------------------------\n"
       ]
      }
     ],
     "prompt_number": 5
    },
    {
     "cell_type": "code",
     "collapsed": false,
     "input": [],
     "language": "python",
     "metadata": {},
     "outputs": []
    }
   ],
   "metadata": {}
  }
 ]
}